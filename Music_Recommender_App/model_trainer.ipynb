{
 "cells": [
  {
   "cell_type": "code",
   "execution_count": 302,
   "id": "a4a07ab6-dfd4-4ddb-ae16-8cd67c605767",
   "metadata": {},
   "outputs": [],
   "source": [
    "import pandas as pd\n",
    "import numpy as np"
   ]
  },
  {
   "cell_type": "code",
   "execution_count": 6,
   "id": "def18db7-b74c-4502-a70d-54a9ed2d20f2",
   "metadata": {},
   "outputs": [],
   "source": [
    "df = pd.read_csv(\"spotify_millsongdata.csv\")"
   ]
  },
  {
   "cell_type": "code",
   "execution_count": 8,
   "id": "acf40cd5-ead6-4081-9051-e5697335834d",
   "metadata": {},
   "outputs": [
    {
     "data": {
      "text/html": [
       "<div>\n",
       "<style scoped>\n",
       "    .dataframe tbody tr th:only-of-type {\n",
       "        vertical-align: middle;\n",
       "    }\n",
       "\n",
       "    .dataframe tbody tr th {\n",
       "        vertical-align: top;\n",
       "    }\n",
       "\n",
       "    .dataframe thead th {\n",
       "        text-align: right;\n",
       "    }\n",
       "</style>\n",
       "<table border=\"1\" class=\"dataframe\">\n",
       "  <thead>\n",
       "    <tr style=\"text-align: right;\">\n",
       "      <th></th>\n",
       "      <th>artist</th>\n",
       "      <th>song</th>\n",
       "      <th>link</th>\n",
       "      <th>text</th>\n",
       "    </tr>\n",
       "  </thead>\n",
       "  <tbody>\n",
       "    <tr>\n",
       "      <th>0</th>\n",
       "      <td>ABBA</td>\n",
       "      <td>Ahe's My Kind Of Girl</td>\n",
       "      <td>/a/abba/ahes+my+kind+of+girl_20598417.html</td>\n",
       "      <td>Look at her face, it's a wonderful face  \\r\\nA...</td>\n",
       "    </tr>\n",
       "    <tr>\n",
       "      <th>1</th>\n",
       "      <td>ABBA</td>\n",
       "      <td>Andante, Andante</td>\n",
       "      <td>/a/abba/andante+andante_20002708.html</td>\n",
       "      <td>Take it easy with me, please  \\r\\nTouch me gen...</td>\n",
       "    </tr>\n",
       "    <tr>\n",
       "      <th>2</th>\n",
       "      <td>ABBA</td>\n",
       "      <td>As Good As New</td>\n",
       "      <td>/a/abba/as+good+as+new_20003033.html</td>\n",
       "      <td>I'll never know why I had to go  \\r\\nWhy I had...</td>\n",
       "    </tr>\n",
       "    <tr>\n",
       "      <th>3</th>\n",
       "      <td>ABBA</td>\n",
       "      <td>Bang</td>\n",
       "      <td>/a/abba/bang_20598415.html</td>\n",
       "      <td>Making somebody happy is a question of give an...</td>\n",
       "    </tr>\n",
       "    <tr>\n",
       "      <th>4</th>\n",
       "      <td>ABBA</td>\n",
       "      <td>Bang-A-Boomerang</td>\n",
       "      <td>/a/abba/bang+a+boomerang_20002668.html</td>\n",
       "      <td>Making somebody happy is a question of give an...</td>\n",
       "    </tr>\n",
       "  </tbody>\n",
       "</table>\n",
       "</div>"
      ],
      "text/plain": [
       "  artist                   song                                        link  \\\n",
       "0   ABBA  Ahe's My Kind Of Girl  /a/abba/ahes+my+kind+of+girl_20598417.html   \n",
       "1   ABBA       Andante, Andante       /a/abba/andante+andante_20002708.html   \n",
       "2   ABBA         As Good As New        /a/abba/as+good+as+new_20003033.html   \n",
       "3   ABBA                   Bang                  /a/abba/bang_20598415.html   \n",
       "4   ABBA       Bang-A-Boomerang      /a/abba/bang+a+boomerang_20002668.html   \n",
       "\n",
       "                                                text  \n",
       "0  Look at her face, it's a wonderful face  \\r\\nA...  \n",
       "1  Take it easy with me, please  \\r\\nTouch me gen...  \n",
       "2  I'll never know why I had to go  \\r\\nWhy I had...  \n",
       "3  Making somebody happy is a question of give an...  \n",
       "4  Making somebody happy is a question of give an...  "
      ]
     },
     "execution_count": 8,
     "metadata": {},
     "output_type": "execute_result"
    }
   ],
   "source": [
    "df.head(5)"
   ]
  },
  {
   "cell_type": "code",
   "execution_count": 10,
   "id": "6e38a4b9-f536-428b-b082-7ab1fc605baa",
   "metadata": {},
   "outputs": [
    {
     "data": {
      "text/html": [
       "<div>\n",
       "<style scoped>\n",
       "    .dataframe tbody tr th:only-of-type {\n",
       "        vertical-align: middle;\n",
       "    }\n",
       "\n",
       "    .dataframe tbody tr th {\n",
       "        vertical-align: top;\n",
       "    }\n",
       "\n",
       "    .dataframe thead th {\n",
       "        text-align: right;\n",
       "    }\n",
       "</style>\n",
       "<table border=\"1\" class=\"dataframe\">\n",
       "  <thead>\n",
       "    <tr style=\"text-align: right;\">\n",
       "      <th></th>\n",
       "      <th>artist</th>\n",
       "      <th>song</th>\n",
       "      <th>link</th>\n",
       "      <th>text</th>\n",
       "    </tr>\n",
       "  </thead>\n",
       "  <tbody>\n",
       "    <tr>\n",
       "      <th>57645</th>\n",
       "      <td>Ziggy Marley</td>\n",
       "      <td>Good Old Days</td>\n",
       "      <td>/z/ziggy+marley/good+old+days_10198588.html</td>\n",
       "      <td>Irie days come on play  \\r\\nLet the angels fly...</td>\n",
       "    </tr>\n",
       "    <tr>\n",
       "      <th>57646</th>\n",
       "      <td>Ziggy Marley</td>\n",
       "      <td>Hand To Mouth</td>\n",
       "      <td>/z/ziggy+marley/hand+to+mouth_20531167.html</td>\n",
       "      <td>Power to the workers  \\r\\nMore power  \\r\\nPowe...</td>\n",
       "    </tr>\n",
       "    <tr>\n",
       "      <th>57647</th>\n",
       "      <td>Zwan</td>\n",
       "      <td>Come With Me</td>\n",
       "      <td>/z/zwan/come+with+me_20148981.html</td>\n",
       "      <td>all you need  \\r\\nis something i'll believe  \\...</td>\n",
       "    </tr>\n",
       "    <tr>\n",
       "      <th>57648</th>\n",
       "      <td>Zwan</td>\n",
       "      <td>Desire</td>\n",
       "      <td>/z/zwan/desire_20148986.html</td>\n",
       "      <td>northern star  \\r\\nam i frightened  \\r\\nwhere ...</td>\n",
       "    </tr>\n",
       "    <tr>\n",
       "      <th>57649</th>\n",
       "      <td>Zwan</td>\n",
       "      <td>Heartsong</td>\n",
       "      <td>/z/zwan/heartsong_20148991.html</td>\n",
       "      <td>come in  \\r\\nmake yourself at home  \\r\\ni'm a ...</td>\n",
       "    </tr>\n",
       "  </tbody>\n",
       "</table>\n",
       "</div>"
      ],
      "text/plain": [
       "             artist           song  \\\n",
       "57645  Ziggy Marley  Good Old Days   \n",
       "57646  Ziggy Marley  Hand To Mouth   \n",
       "57647          Zwan   Come With Me   \n",
       "57648          Zwan         Desire   \n",
       "57649          Zwan      Heartsong   \n",
       "\n",
       "                                              link  \\\n",
       "57645  /z/ziggy+marley/good+old+days_10198588.html   \n",
       "57646  /z/ziggy+marley/hand+to+mouth_20531167.html   \n",
       "57647           /z/zwan/come+with+me_20148981.html   \n",
       "57648                 /z/zwan/desire_20148986.html   \n",
       "57649              /z/zwan/heartsong_20148991.html   \n",
       "\n",
       "                                                    text  \n",
       "57645  Irie days come on play  \\r\\nLet the angels fly...  \n",
       "57646  Power to the workers  \\r\\nMore power  \\r\\nPowe...  \n",
       "57647  all you need  \\r\\nis something i'll believe  \\...  \n",
       "57648  northern star  \\r\\nam i frightened  \\r\\nwhere ...  \n",
       "57649  come in  \\r\\nmake yourself at home  \\r\\ni'm a ...  "
      ]
     },
     "execution_count": 10,
     "metadata": {},
     "output_type": "execute_result"
    }
   ],
   "source": [
    "df.tail(5)"
   ]
  },
  {
   "cell_type": "code",
   "execution_count": 12,
   "id": "89eb07fc-4ef0-445f-bf1f-14eafde30f4b",
   "metadata": {},
   "outputs": [
    {
     "data": {
      "text/plain": [
       "(57650, 4)"
      ]
     },
     "execution_count": 12,
     "metadata": {},
     "output_type": "execute_result"
    }
   ],
   "source": [
    "df.shape"
   ]
  },
  {
   "cell_type": "code",
   "execution_count": 14,
   "id": "89c789a4-fa91-40cf-86b4-2290444c79e2",
   "metadata": {},
   "outputs": [
    {
     "data": {
      "text/plain": [
       "artist    0\n",
       "song      0\n",
       "link      0\n",
       "text      0\n",
       "dtype: int64"
      ]
     },
     "execution_count": 14,
     "metadata": {},
     "output_type": "execute_result"
    }
   ],
   "source": [
    "df.isnull().sum()"
   ]
  },
  {
   "cell_type": "code",
   "execution_count": 18,
   "id": "ad77bcb0-38eb-4ea3-a18a-450cd4457974",
   "metadata": {},
   "outputs": [],
   "source": [
    "df = df.sample(5000).drop('link', axis=1).reset_index(drop=True)"
   ]
  },
  {
   "cell_type": "code",
   "execution_count": 20,
   "id": "83976aef-c49a-44d3-ada7-22b0f32173b0",
   "metadata": {},
   "outputs": [
    {
     "data": {
      "text/html": [
       "<div>\n",
       "<style scoped>\n",
       "    .dataframe tbody tr th:only-of-type {\n",
       "        vertical-align: middle;\n",
       "    }\n",
       "\n",
       "    .dataframe tbody tr th {\n",
       "        vertical-align: top;\n",
       "    }\n",
       "\n",
       "    .dataframe thead th {\n",
       "        text-align: right;\n",
       "    }\n",
       "</style>\n",
       "<table border=\"1\" class=\"dataframe\">\n",
       "  <thead>\n",
       "    <tr style=\"text-align: right;\">\n",
       "      <th></th>\n",
       "      <th>artist</th>\n",
       "      <th>song</th>\n",
       "      <th>text</th>\n",
       "    </tr>\n",
       "  </thead>\n",
       "  <tbody>\n",
       "    <tr>\n",
       "      <th>0</th>\n",
       "      <td>Pearl Jam</td>\n",
       "      <td>Brain Of J.</td>\n",
       "      <td>Who's got the brain of JFK?  \\r\\nWhat's it mea...</td>\n",
       "    </tr>\n",
       "    <tr>\n",
       "      <th>1</th>\n",
       "      <td>The Monkees</td>\n",
       "      <td>Dyin' Of A Broken Heart</td>\n",
       "      <td>I told my Doctor something's wrong with me  \\r...</td>\n",
       "    </tr>\n",
       "    <tr>\n",
       "      <th>2</th>\n",
       "      <td>George Michael</td>\n",
       "      <td>Battlestations</td>\n",
       "      <td>You ask too much of me  \\r\\nYou try my patienc...</td>\n",
       "    </tr>\n",
       "    <tr>\n",
       "      <th>3</th>\n",
       "      <td>Vanessa Williams</td>\n",
       "      <td>Higher Ground</td>\n",
       "      <td>Walk me over this situation  \\r\\nLet the sun's...</td>\n",
       "    </tr>\n",
       "    <tr>\n",
       "      <th>4</th>\n",
       "      <td>David Allan Coe</td>\n",
       "      <td>Bossier City</td>\n",
       "      <td>My hands are shaking as I'm sadly learning  \\r...</td>\n",
       "    </tr>\n",
       "    <tr>\n",
       "      <th>5</th>\n",
       "      <td>Tiffany</td>\n",
       "      <td>All The Talking</td>\n",
       "      <td>(Tiffany, J. Brooks, T. Feehan)  \\r\\nI don't l...</td>\n",
       "    </tr>\n",
       "    <tr>\n",
       "      <th>6</th>\n",
       "      <td>Billie Holiday</td>\n",
       "      <td>On The Sunny Side Of The Street</td>\n",
       "      <td>Grab your coat and get your hat  \\r\\nLeave you...</td>\n",
       "    </tr>\n",
       "    <tr>\n",
       "      <th>7</th>\n",
       "      <td>Rainbow</td>\n",
       "      <td>Bring On The Night</td>\n",
       "      <td>I was taking a chance on a tight-rope  \\r\\nWal...</td>\n",
       "    </tr>\n",
       "    <tr>\n",
       "      <th>8</th>\n",
       "      <td>Kanye West</td>\n",
       "      <td>Don't Look Down</td>\n",
       "      <td>[Mos Def]  \\r\\nDon't look down, it's an imposs...</td>\n",
       "    </tr>\n",
       "    <tr>\n",
       "      <th>9</th>\n",
       "      <td>Housemartins</td>\n",
       "      <td>Flag Day</td>\n",
       "      <td>Too many Florence Nightingales  \\r\\nNot enough...</td>\n",
       "    </tr>\n",
       "  </tbody>\n",
       "</table>\n",
       "</div>"
      ],
      "text/plain": [
       "             artist                             song  \\\n",
       "0         Pearl Jam                      Brain Of J.   \n",
       "1       The Monkees          Dyin' Of A Broken Heart   \n",
       "2    George Michael                   Battlestations   \n",
       "3  Vanessa Williams                    Higher Ground   \n",
       "4   David Allan Coe                     Bossier City   \n",
       "5           Tiffany                  All The Talking   \n",
       "6    Billie Holiday  On The Sunny Side Of The Street   \n",
       "7           Rainbow               Bring On The Night   \n",
       "8        Kanye West                  Don't Look Down   \n",
       "9      Housemartins                         Flag Day   \n",
       "\n",
       "                                                text  \n",
       "0  Who's got the brain of JFK?  \\r\\nWhat's it mea...  \n",
       "1  I told my Doctor something's wrong with me  \\r...  \n",
       "2  You ask too much of me  \\r\\nYou try my patienc...  \n",
       "3  Walk me over this situation  \\r\\nLet the sun's...  \n",
       "4  My hands are shaking as I'm sadly learning  \\r...  \n",
       "5  (Tiffany, J. Brooks, T. Feehan)  \\r\\nI don't l...  \n",
       "6  Grab your coat and get your hat  \\r\\nLeave you...  \n",
       "7  I was taking a chance on a tight-rope  \\r\\nWal...  \n",
       "8  [Mos Def]  \\r\\nDon't look down, it's an imposs...  \n",
       "9  Too many Florence Nightingales  \\r\\nNot enough...  "
      ]
     },
     "execution_count": 20,
     "metadata": {},
     "output_type": "execute_result"
    }
   ],
   "source": [
    "df.head(10)"
   ]
  },
  {
   "cell_type": "code",
   "execution_count": 22,
   "id": "96f960f4-ee44-474c-a445-76da4ff478da",
   "metadata": {},
   "outputs": [
    {
     "data": {
      "text/plain": [
       "\"Who's got the brain of JFK?  \\r\\nWhat's it mean to us now? (yeah)  \\r\\nPause, It sounds distrust  \\r\\nBut I can tell you this is no lie  \\r\\n  \\r\\nThe whole world will be different soon  \\r\\nThe whole world will be relieving  \\r\\n  \\r\\nYou you've been taught  \\r\\nWhipped into shape now they got you in line  \\r\\nStand behind the stripes  \\r\\nThere will be order so give it a good mind  \\r\\nThe whole world will be different soon  \\r\\nThe whole world will be relieving  \\r\\n  \\r\\nAnd by name  \\r\\nThe name they gave me  \\r\\nThe name I'm letting go  \\r\\n  \\r\\nThe whole world will be different soon  \\r\\nThe whole world will be relieving  \\r\\nThe whole world will be different soon, soon\\r\\n\\r\\n\""
      ]
     },
     "execution_count": 22,
     "metadata": {},
     "output_type": "execute_result"
    }
   ],
   "source": [
    "df['text'][0]"
   ]
  },
  {
   "cell_type": "code",
   "execution_count": 26,
   "id": "87434df9-8341-4903-b5cd-319407c6b203",
   "metadata": {},
   "outputs": [],
   "source": [
    "df = df.sample(5000)"
   ]
  },
  {
   "cell_type": "code",
   "execution_count": 28,
   "id": "c90abd2a-8f91-4803-bf0e-b67226b7eecd",
   "metadata": {},
   "outputs": [
    {
     "data": {
      "text/plain": [
       "(5000, 3)"
      ]
     },
     "execution_count": 28,
     "metadata": {},
     "output_type": "execute_result"
    }
   ],
   "source": [
    "df.shape"
   ]
  },
  {
   "cell_type": "markdown",
   "id": "df9e4b52-40c1-4678-b6ca-22f47e18b2e3",
   "metadata": {},
   "source": [
    "Text Cleaning/ Text Preprocessing"
   ]
  },
  {
   "cell_type": "code",
   "execution_count": 47,
   "id": "ce23cf45-91a1-4746-aac8-8e5285f2e42b",
   "metadata": {},
   "outputs": [],
   "source": [
    "df['text'] = df['text'].str.lower().replace(r'^\\w\\s', ' ').replace(r'\\n', ' ', regex = True)"
   ]
  },
  {
   "cell_type": "code",
   "execution_count": 49,
   "id": "74617994-cb01-45a7-9941-da718f1faf23",
   "metadata": {},
   "outputs": [],
   "source": [
    "import nltk\n",
    "from nltk.stem.porter import PorterStemmer"
   ]
  },
  {
   "cell_type": "code",
   "execution_count": 51,
   "id": "361d70a0-b750-4c74-bb02-e9e54a51d608",
   "metadata": {},
   "outputs": [],
   "source": [
    "stemmer = PorterStemmer()"
   ]
  },
  {
   "cell_type": "code",
   "execution_count": 63,
   "id": "f849bb5e-a9c8-48d0-819a-106db5164e46",
   "metadata": {},
   "outputs": [
    {
     "name": "stderr",
     "output_type": "stream",
     "text": [
      "[nltk_data] Downloading package punkt to\n",
      "[nltk_data]     /Users/BusinessAnalyst/nltk_data...\n",
      "[nltk_data]   Unzipping tokenizers/punkt.zip.\n"
     ]
    },
    {
     "data": {
      "text/plain": [
       "True"
      ]
     },
     "execution_count": 63,
     "metadata": {},
     "output_type": "execute_result"
    }
   ],
   "source": [
    "nltk.download('punkt')"
   ]
  },
  {
   "cell_type": "code",
   "execution_count": 65,
   "id": "b51b91f1-4f29-4144-8832-54278be21a58",
   "metadata": {},
   "outputs": [
    {
     "data": {
      "text/plain": [
       "669     i think i see gold word by ray boltz , music b...\n",
       "713     you 're not the right one dumb damn rapper not...\n",
       "317     for all night dwight got a '56 cadillac with a...\n",
       "951     a man walk down the street he say whi am i sof...\n",
       "1288    nick perform thi for the italian film mojo , a...\n",
       "                              ...                        \n",
       "671     babi grace is the victim she wa 14 year of age...\n",
       "3046    see the strang boy keep to the shadow he 's a ...\n",
       "4814    one littl christma tree wa stand alon wait for...\n",
       "2040    hey hey littl princess so tell me what is your...\n",
       "3994    i could be anywher els but here but the rain w...\n",
       "Name: text, Length: 5000, dtype: object"
      ]
     },
     "execution_count": 65,
     "metadata": {},
     "output_type": "execute_result"
    }
   ],
   "source": [
    "df['text'].apply(lambda x: token(x))"
   ]
  },
  {
   "cell_type": "code",
   "execution_count": 83,
   "id": "742bb7e4-3cef-40db-8538-83fea96caa07",
   "metadata": {},
   "outputs": [],
   "source": [
    "from sklearn.feature_extraction.text import TfidfVectorizer"
   ]
  },
  {
   "cell_type": "code",
   "execution_count": 272,
   "id": "ebfa838b-3d1d-49f1-b52b-482c5a7b1a1e",
   "metadata": {},
   "outputs": [],
   "source": [
    "from sklearn.metrics.pairwise import cosine_similarity"
   ]
  },
  {
   "cell_type": "code",
   "execution_count": 87,
   "id": "f7222c49-4792-46d1-95f6-4bcb3a6c0715",
   "metadata": {},
   "outputs": [],
   "source": [
    "tfid = TfidfVectorizer(analyzer='word', stop_words='english')"
   ]
  },
  {
   "cell_type": "code",
   "execution_count": 89,
   "id": "4cb520fe-855d-47be-8a68-c6ac7435a8aa",
   "metadata": {},
   "outputs": [],
   "source": [
    "matrix = tfid.fit_transform(df['text'])"
   ]
  },
  {
   "cell_type": "code",
   "execution_count": 276,
   "id": "5fb96cb9-7884-4a63-b255-cde0710bd6ec",
   "metadata": {},
   "outputs": [
    {
     "data": {
      "text/plain": [
       "array([[1.        , 0.07862708, 0.0241343 , ..., 0.0197514 , 0.01878532,\n",
       "        0.02802718],\n",
       "       [0.07862708, 1.        , 0.02643883, ..., 0.02417193, 0.01507558,\n",
       "        0.00911296],\n",
       "       [0.0241343 , 0.02643883, 1.        , ..., 0.01520245, 0.03278254,\n",
       "        0.01490415],\n",
       "       ...,\n",
       "       [0.0197514 , 0.02417193, 0.01520245, ..., 1.        , 0.12175787,\n",
       "        0.01098808],\n",
       "       [0.01878532, 0.01507558, 0.03278254, ..., 0.12175787, 1.        ,\n",
       "        0.05438503],\n",
       "       [0.02802718, 0.00911296, 0.01490415, ..., 0.01098808, 0.05438503,\n",
       "        1.        ]])"
      ]
     },
     "execution_count": 276,
     "metadata": {},
     "output_type": "execute_result"
    }
   ],
   "source": [
    "cosine_similarity(matrix)"
   ]
  },
  {
   "cell_type": "code",
   "execution_count": 278,
   "id": "0c197f4f-6336-4d4d-9971-0e5adc671fca",
   "metadata": {},
   "outputs": [
    {
     "data": {
      "text/plain": [
       "array([1.        , 0.07862708, 0.0241343 , ..., 0.0197514 , 0.01878532,\n",
       "       0.02802718])"
      ]
     },
     "execution_count": 278,
     "metadata": {},
     "output_type": "execute_result"
    }
   ],
   "source": [
    "cosine_similarity(matrix)[0]"
   ]
  },
  {
   "cell_type": "code",
   "execution_count": 174,
   "id": "fa1a3eac-3873-419d-a05a-81c14eaa7d7a",
   "metadata": {},
   "outputs": [
    {
     "data": {
      "text/plain": [
       "7"
      ]
     },
     "execution_count": 174,
     "metadata": {},
     "output_type": "execute_result"
    }
   ],
   "source": [
    "df[df['song']=='Bring On The Night'].index[0]"
   ]
  },
  {
   "cell_type": "code",
   "execution_count": null,
   "id": "5f3f56ad-4ba5-4eb1-8c92-ecc1e0003497",
   "metadata": {},
   "outputs": [],
   "source": []
  },
  {
   "cell_type": "code",
   "execution_count": null,
   "id": "0b4513a1-e41b-4e89-b926-2b6756bba69d",
   "metadata": {},
   "outputs": [],
   "source": []
  },
  {
   "cell_type": "markdown",
   "id": "1a907791-360f-4c8a-b516-0f8fb43335d8",
   "metadata": {},
   "source": [
    "Recommender Function"
   ]
  },
  {
   "cell_type": "code",
   "execution_count": 280,
   "id": "9e231aa6-c09a-4489-a293-73afe315e680",
   "metadata": {},
   "outputs": [],
   "source": [
    "def recommendation(song_df):\n",
    "    idx = df[df['song'] == song_df].index[0]\n",
    "    distances = sorted(list(enumerate(cosine_similarity(matrix)[idx])), reverse=True, key=lambda x:x[1])\n",
    "    \n",
    "    songs = []\n",
    "    for m_id in distances[1:21]:\n",
    "        songs.append(df.iloc[m_id[0]].song)\n",
    "        \n",
    "    return songs"
   ]
  },
  {
   "cell_type": "code",
   "execution_count": 284,
   "id": "021f3ea5-7114-4411-b529-1a53e3e13e0c",
   "metadata": {},
   "outputs": [
    {
     "data": {
      "text/plain": [
       "['Every Time She Walks',\n",
       " 'Cause I Love You',\n",
       " 'Never Will Give Up',\n",
       " 'Everytime We Say Goodbye',\n",
       " 'Guitar And Pen',\n",
       " 'Hard To Forget Ya',\n",
       " 'Right Off Rampart Street',\n",
       " 'Chords Of Fame',\n",
       " 'Guitar Man',\n",
       " 'Reach',\n",
       " 'Electric Chair',\n",
       " 'Call Me',\n",
       " \"I'm Coming Out\",\n",
       " 'Let Me',\n",
       " 'Top Down',\n",
       " \"I'm Coming Home\",\n",
       " 'Fuel To The Flame',\n",
       " 'Right On',\n",
       " 'Katy Brought My Guitar Back Today',\n",
       " 'Photographs']"
      ]
     },
     "execution_count": 284,
     "metadata": {},
     "output_type": "execute_result"
    }
   ],
   "source": [
    "recommendation('About A Heart')"
   ]
  },
  {
   "cell_type": "code",
   "execution_count": 286,
   "id": "3df60944-864b-4626-ac14-5b65284516c6",
   "metadata": {},
   "outputs": [],
   "source": [
    "import pickle"
   ]
  },
  {
   "cell_type": "code",
   "execution_count": 288,
   "id": "b8edfa48-76bd-48dd-ba22-9fd93a82a5b3",
   "metadata": {},
   "outputs": [],
   "source": [
    "pickle.dump(cosine_similarity(matrix), open(\"similarity_pkl\", \"wb\"))"
   ]
  },
  {
   "cell_type": "code",
   "execution_count": 292,
   "id": "5cff8b03-e50c-4296-821b-1445b90809bb",
   "metadata": {},
   "outputs": [],
   "source": [
    "pickle.dump(df, open(\"df_pkl\", \"wb\"))"
   ]
  },
  {
   "cell_type": "code",
   "execution_count": 294,
   "id": "d533af20-fbb2-4ddc-8716-68a02cb0aab5",
   "metadata": {},
   "outputs": [],
   "source": [
    "ssaamme = cosine_similarity(matrix)"
   ]
  },
  {
   "cell_type": "code",
   "execution_count": 298,
   "id": "3dda88cd-ebe8-45c8-b78b-6c2e7b281750",
   "metadata": {},
   "outputs": [],
   "source": [
    "pickle.dump(saamme, open(\"similarity_pkl\", \"wb\"))"
   ]
  },
  {
   "cell_type": "code",
   "execution_count": null,
   "id": "731c2959-2018-4271-a15f-05f597fc2762",
   "metadata": {},
   "outputs": [],
   "source": []
  }
 ],
 "metadata": {
  "kernelspec": {
   "display_name": "Python 3 (ipykernel)",
   "language": "python",
   "name": "python3"
  },
  "language_info": {
   "codemirror_mode": {
    "name": "ipython",
    "version": 3
   },
   "file_extension": ".py",
   "mimetype": "text/x-python",
   "name": "python",
   "nbconvert_exporter": "python",
   "pygments_lexer": "ipython3",
   "version": "3.12.4"
  }
 },
 "nbformat": 4,
 "nbformat_minor": 5
}
