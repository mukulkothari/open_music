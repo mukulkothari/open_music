{
 "cells": [
  {
   "cell_type": "code",
   "execution_count": 2,
   "id": "28360b81-7add-42b1-9ccb-0f6a9fc04ac9",
   "metadata": {},
   "outputs": [],
   "source": [
    "import pandas as pd\n",
    "import numpy as np\n",
    "import os"
   ]
  },
  {
   "cell_type": "code",
   "execution_count": 3,
   "id": "17752c3e-dfbd-4b97-bad9-15f2993f1983",
   "metadata": {},
   "outputs": [
    {
     "name": "stdout",
     "output_type": "stream",
     "text": [
      "TIMESTAMP\n",
      "COPYING\n",
      "README\n",
      "REPLICATION_SEQUENCE\n",
      "SCHEMA_SEQUENCE\n",
      "mbdump/area\n",
      "JSON_DUMPS_SCHEMA_NUMBER\n"
     ]
    }
   ],
   "source": [
    "import tarfile\n",
    "file_path = '/Users/mukulkothari/Work/MPE/Datasets/MusicBrainz/JSON/area.tar.xz'\n",
    "op_file_path = '/Users/mukulkothari/Work/MPE/Datasets/MusicBrainz/JSON/area_raw/'\n",
    "\n",
    "# Open your tar file\n",
    "with tarfile.open(file_path, 'r') as tar:\n",
    "    # List all members\n",
    "    for member in tar.getmembers():\n",
    "        print(member.name)\n",
    "        # Extract each member\n",
    "        tar.extract(member, path=op_file_path)"
   ]
  },
  {
   "cell_type": "code",
   "execution_count": 6,
   "id": "63ddce11-7e7f-4bc5-8570-34611c66b944",
   "metadata": {},
   "outputs": [
    {
     "ename": "ParserError",
     "evalue": "Error tokenizing data. C error: Expected 91 fields in line 29, saw 94\n",
     "output_type": "error",
     "traceback": [
      "\u001b[0;31m---------------------------------------------------------------------------\u001b[0m",
      "\u001b[0;31mParserError\u001b[0m                               Traceback (most recent call last)",
      "Cell \u001b[0;32mIn[6], line 1\u001b[0m\n\u001b[0;32m----> 1\u001b[0m df \u001b[38;5;241m=\u001b[39m \u001b[43mpd\u001b[49m\u001b[38;5;241;43m.\u001b[39;49m\u001b[43mread_csv\u001b[49m\u001b[43m(\u001b[49m\u001b[38;5;124;43m'\u001b[39;49m\u001b[38;5;124;43m/Users/mukulkothari/Work/MPE/Datasets/MusicBrainz/JSON/area_raw/mbdump/area.json\u001b[39;49m\u001b[38;5;124;43m'\u001b[39;49m\u001b[43m)\u001b[49m\n",
      "File \u001b[0;32m~/open_music_env/lib/python3.12/site-packages/pandas/io/parsers/readers.py:1026\u001b[0m, in \u001b[0;36mread_csv\u001b[0;34m(filepath_or_buffer, sep, delimiter, header, names, index_col, usecols, dtype, engine, converters, true_values, false_values, skipinitialspace, skiprows, skipfooter, nrows, na_values, keep_default_na, na_filter, verbose, skip_blank_lines, parse_dates, infer_datetime_format, keep_date_col, date_parser, date_format, dayfirst, cache_dates, iterator, chunksize, compression, thousands, decimal, lineterminator, quotechar, quoting, doublequote, escapechar, comment, encoding, encoding_errors, dialect, on_bad_lines, delim_whitespace, low_memory, memory_map, float_precision, storage_options, dtype_backend)\u001b[0m\n\u001b[1;32m   1013\u001b[0m kwds_defaults \u001b[38;5;241m=\u001b[39m _refine_defaults_read(\n\u001b[1;32m   1014\u001b[0m     dialect,\n\u001b[1;32m   1015\u001b[0m     delimiter,\n\u001b[0;32m   (...)\u001b[0m\n\u001b[1;32m   1022\u001b[0m     dtype_backend\u001b[38;5;241m=\u001b[39mdtype_backend,\n\u001b[1;32m   1023\u001b[0m )\n\u001b[1;32m   1024\u001b[0m kwds\u001b[38;5;241m.\u001b[39mupdate(kwds_defaults)\n\u001b[0;32m-> 1026\u001b[0m \u001b[38;5;28;01mreturn\u001b[39;00m \u001b[43m_read\u001b[49m\u001b[43m(\u001b[49m\u001b[43mfilepath_or_buffer\u001b[49m\u001b[43m,\u001b[49m\u001b[43m \u001b[49m\u001b[43mkwds\u001b[49m\u001b[43m)\u001b[49m\n",
      "File \u001b[0;32m~/open_music_env/lib/python3.12/site-packages/pandas/io/parsers/readers.py:626\u001b[0m, in \u001b[0;36m_read\u001b[0;34m(filepath_or_buffer, kwds)\u001b[0m\n\u001b[1;32m    623\u001b[0m     \u001b[38;5;28;01mreturn\u001b[39;00m parser\n\u001b[1;32m    625\u001b[0m \u001b[38;5;28;01mwith\u001b[39;00m parser:\n\u001b[0;32m--> 626\u001b[0m     \u001b[38;5;28;01mreturn\u001b[39;00m \u001b[43mparser\u001b[49m\u001b[38;5;241;43m.\u001b[39;49m\u001b[43mread\u001b[49m\u001b[43m(\u001b[49m\u001b[43mnrows\u001b[49m\u001b[43m)\u001b[49m\n",
      "File \u001b[0;32m~/open_music_env/lib/python3.12/site-packages/pandas/io/parsers/readers.py:1923\u001b[0m, in \u001b[0;36mTextFileReader.read\u001b[0;34m(self, nrows)\u001b[0m\n\u001b[1;32m   1916\u001b[0m nrows \u001b[38;5;241m=\u001b[39m validate_integer(\u001b[38;5;124m\"\u001b[39m\u001b[38;5;124mnrows\u001b[39m\u001b[38;5;124m\"\u001b[39m, nrows)\n\u001b[1;32m   1917\u001b[0m \u001b[38;5;28;01mtry\u001b[39;00m:\n\u001b[1;32m   1918\u001b[0m     \u001b[38;5;66;03m# error: \"ParserBase\" has no attribute \"read\"\u001b[39;00m\n\u001b[1;32m   1919\u001b[0m     (\n\u001b[1;32m   1920\u001b[0m         index,\n\u001b[1;32m   1921\u001b[0m         columns,\n\u001b[1;32m   1922\u001b[0m         col_dict,\n\u001b[0;32m-> 1923\u001b[0m     ) \u001b[38;5;241m=\u001b[39m \u001b[38;5;28;43mself\u001b[39;49m\u001b[38;5;241;43m.\u001b[39;49m\u001b[43m_engine\u001b[49m\u001b[38;5;241;43m.\u001b[39;49m\u001b[43mread\u001b[49m\u001b[43m(\u001b[49m\u001b[43m  \u001b[49m\u001b[38;5;66;43;03m# type: ignore[attr-defined]\u001b[39;49;00m\n\u001b[1;32m   1924\u001b[0m \u001b[43m        \u001b[49m\u001b[43mnrows\u001b[49m\n\u001b[1;32m   1925\u001b[0m \u001b[43m    \u001b[49m\u001b[43m)\u001b[49m\n\u001b[1;32m   1926\u001b[0m \u001b[38;5;28;01mexcept\u001b[39;00m \u001b[38;5;167;01mException\u001b[39;00m:\n\u001b[1;32m   1927\u001b[0m     \u001b[38;5;28mself\u001b[39m\u001b[38;5;241m.\u001b[39mclose()\n",
      "File \u001b[0;32m~/open_music_env/lib/python3.12/site-packages/pandas/io/parsers/c_parser_wrapper.py:234\u001b[0m, in \u001b[0;36mCParserWrapper.read\u001b[0;34m(self, nrows)\u001b[0m\n\u001b[1;32m    232\u001b[0m \u001b[38;5;28;01mtry\u001b[39;00m:\n\u001b[1;32m    233\u001b[0m     \u001b[38;5;28;01mif\u001b[39;00m \u001b[38;5;28mself\u001b[39m\u001b[38;5;241m.\u001b[39mlow_memory:\n\u001b[0;32m--> 234\u001b[0m         chunks \u001b[38;5;241m=\u001b[39m \u001b[38;5;28;43mself\u001b[39;49m\u001b[38;5;241;43m.\u001b[39;49m\u001b[43m_reader\u001b[49m\u001b[38;5;241;43m.\u001b[39;49m\u001b[43mread_low_memory\u001b[49m\u001b[43m(\u001b[49m\u001b[43mnrows\u001b[49m\u001b[43m)\u001b[49m\n\u001b[1;32m    235\u001b[0m         \u001b[38;5;66;03m# destructive to chunks\u001b[39;00m\n\u001b[1;32m    236\u001b[0m         data \u001b[38;5;241m=\u001b[39m _concatenate_chunks(chunks)\n",
      "File \u001b[0;32mparsers.pyx:838\u001b[0m, in \u001b[0;36mpandas._libs.parsers.TextReader.read_low_memory\u001b[0;34m()\u001b[0m\n",
      "File \u001b[0;32mparsers.pyx:905\u001b[0m, in \u001b[0;36mpandas._libs.parsers.TextReader._read_rows\u001b[0;34m()\u001b[0m\n",
      "File \u001b[0;32mparsers.pyx:874\u001b[0m, in \u001b[0;36mpandas._libs.parsers.TextReader._tokenize_rows\u001b[0;34m()\u001b[0m\n",
      "File \u001b[0;32mparsers.pyx:891\u001b[0m, in \u001b[0;36mpandas._libs.parsers.TextReader._check_tokenize_status\u001b[0;34m()\u001b[0m\n",
      "File \u001b[0;32mparsers.pyx:2061\u001b[0m, in \u001b[0;36mpandas._libs.parsers.raise_parser_error\u001b[0;34m()\u001b[0m\n",
      "\u001b[0;31mParserError\u001b[0m: Error tokenizing data. C error: Expected 91 fields in line 29, saw 94\n"
     ]
    }
   ],
   "source": [
    "df = pd.read_csv('/Users/mukulkothari/Work/MPE/Datasets/MusicBrainz/JSON/area_raw/mbdump/area.json')"
   ]
  },
  {
   "cell_type": "code",
   "execution_count": 5,
   "id": "dafd883b-6b34-46ad-8a79-28f5ddf30c6e",
   "metadata": {},
   "outputs": [
    {
     "data": {
      "text/plain": [
       "['JSON_DUMPS_SCHEMA_NUMBER',\n",
       " '.DS_Store',\n",
       " 'mbdump',\n",
       " 'SCHEMA_SEQUENCE',\n",
       " 'README',\n",
       " 'REPLICATION_SEQUENCE',\n",
       " 'COPYING',\n",
       " 'TIMESTAMP']"
      ]
     },
     "execution_count": 5,
     "metadata": {},
     "output_type": "execute_result"
    }
   ],
   "source": [
    "os.listdir(op_file_path)"
   ]
  },
  {
   "cell_type": "code",
   "execution_count": 7,
   "id": "4c8a7b60-2316-4806-adb8-36fa28492330",
   "metadata": {},
   "outputs": [
    {
     "name": "stdout",
     "output_type": "stream",
     "text": [
      "File /Users/mukulkothari/Work/MPE/Datasets/MusicBrainz/JSON/area_raw/mbdump/area not found in the archive.\n"
     ]
    },
    {
     "ename": "NameError",
     "evalue": "name 'file_member' is not defined",
     "output_type": "error",
     "traceback": [
      "\u001b[0;31m---------------------------------------------------------------------------\u001b[0m",
      "\u001b[0;31mNameError\u001b[0m                                 Traceback (most recent call last)",
      "Cell \u001b[0;32mIn[7], line 19\u001b[0m\n\u001b[1;32m     16\u001b[0m     exit()\n\u001b[1;32m     18\u001b[0m \u001b[38;5;66;03m# Extract the file member as a file-like object\u001b[39;00m\n\u001b[0;32m---> 19\u001b[0m file_obj \u001b[38;5;241m=\u001b[39m tar\u001b[38;5;241m.\u001b[39mextractfile(\u001b[43mfile_member\u001b[49m)\n\u001b[1;32m     21\u001b[0m \u001b[38;5;66;03m# Ensure the file was found and is accessible\u001b[39;00m\n\u001b[1;32m     22\u001b[0m \u001b[38;5;28;01mif\u001b[39;00m file_obj \u001b[38;5;129;01mis\u001b[39;00m \u001b[38;5;129;01mnot\u001b[39;00m \u001b[38;5;28;01mNone\u001b[39;00m:\n\u001b[1;32m     23\u001b[0m     \u001b[38;5;66;03m# Read the content of the file-like object as a string\u001b[39;00m\n",
      "\u001b[0;31mNameError\u001b[0m: name 'file_member' is not defined"
     ]
    }
   ],
   "source": [
    "import tarfile\n",
    "import json\n",
    "\n",
    "# Specify the path to your tar archive and the JSON file you want to read\n",
    "# tar_path = 'path/to/your-archive.tar'\n",
    "tar_path = '/Users/mukulkothari/Work/MPE/Datasets/MusicBrainz/JSON/area.tar.xz'\n",
    "file_name = '/Users/mukulkothari/Work/MPE/Datasets/MusicBrainz/JSON/area_raw/mbdump/area'  # Adjust the path based on the archive's structure\n",
    "\n",
    "# Open the tar archive\n",
    "with tarfile.open(tar_path, 'r') as tar:\n",
    "    # Find the specific file member in the archive\n",
    "    try:\n",
    "        file_member = tar.getmember(file_name)\n",
    "    except KeyError:\n",
    "        print(f\"File {file_name} not found in the archive.\")\n",
    "        exit()\n",
    "\n",
    "    # Extract the file member as a file-like object\n",
    "    file_obj = tar.extractfile(file_member)\n",
    "    \n",
    "    # Ensure the file was found and is accessible\n",
    "    if file_obj is not None:\n",
    "        # Read the content of the file-like object as a string\n",
    "        file_content = file_obj.read().decode('utf-8')\n",
    "        \n",
    "        # Parse the string content as JSON\n",
    "        data = json.loads(file_content)\n",
    "        \n",
    "        # Close the file-like object after reading\n",
    "        file_obj.close()\n",
    "        \n",
    "        # Now you can work with the JSON data object (which is typically a dictionary or a list)\n",
    "        print(data)\n",
    "    else:\n",
    "        print(f\"Could not read the file {file_name}.\")\n"
   ]
  },
  {
   "cell_type": "code",
   "execution_count": null,
   "id": "f86674e3-bb13-4447-b446-f3fb1e139280",
   "metadata": {},
   "outputs": [],
   "source": []
  }
 ],
 "metadata": {
  "kernelspec": {
   "display_name": "Python 3 (ipykernel)",
   "language": "python",
   "name": "python3"
  },
  "language_info": {
   "codemirror_mode": {
    "name": "ipython",
    "version": 3
   },
   "file_extension": ".py",
   "mimetype": "text/x-python",
   "name": "python",
   "nbconvert_exporter": "python",
   "pygments_lexer": "ipython3",
   "version": "3.12.2"
  }
 },
 "nbformat": 4,
 "nbformat_minor": 5
}
