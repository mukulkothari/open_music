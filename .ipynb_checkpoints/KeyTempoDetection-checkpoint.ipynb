{
 "cells": [
  {
   "cell_type": "code",
   "execution_count": 1,
   "id": "a116b8c9-d166-452e-ba67-df217dd53524",
   "metadata": {},
   "outputs": [],
   "source": [
    "import librosa\n",
    "import librosa.display\n",
    "import numpy as np\n"
   ]
  },
  {
   "cell_type": "code",
   "execution_count": 6,
   "id": "da0d5c1c-8697-4f58-8368-55bf1cac9d09",
   "metadata": {},
   "outputs": [],
   "source": [
    "def extract_key_and_tempo(file_path):\n",
    "    # Load the audio file\n",
    "    y, sr = librosa.load(file_path, sr=None)\n",
    "\n",
    "    # Extract the tempo (in beats per minute, BPM) and beat frames\n",
    "    tempo, beat_frames = librosa.beat.beat_track(y=y, sr=sr)\n",
    "\n",
    "    # Extract the chroma features\n",
    "    chromagram = librosa.feature.chroma_cqt(y=y, sr=sr)\n",
    "\n",
    "    # Aggregate chroma features across beat frames\n",
    "    chroma_beat = librosa.util.sync(chromagram, beat_frames, aggregate=np.median)\n",
    "\n",
    "    # Compute the key\n",
    "    key = librosa.feature.chroma_cens(y=y, sr=sr)\n",
    "    key, _ = librosa.key.key_chroma(chroma_beat, key)\n",
    "\n",
    "    return key, tempo"
   ]
  },
  {
   "cell_type": "code",
   "execution_count": 2,
   "id": "101b157b-fcf8-4c26-8c37-4a72a0ccdf0e",
   "metadata": {},
   "outputs": [],
   "source": [
    "def estimate_key_and_tempo(audio_file):\n",
    "    # Load the audio file\n",
    "    y, sr = librosa.load(audio_file)\n",
    "    \n",
    "    # Estimate the tempo (beats per minute)\n",
    "    tempo, _ = librosa.beat.beat_track(y=y, sr=sr)\n",
    "    \n",
    "    # Compute the chromagram of the audio signal\n",
    "    chromagram = librosa.feature.chroma_cqt(y=y, sr=sr)\n",
    "    \n",
    "    # Estimate the key\n",
    "    key = np.argmax(np.sum(chromagram, axis=1))\n",
    "    \n",
    "    # Mapping of numerical key ID to musical key notation\n",
    "    key_names = ['C', 'C#', 'D', 'D#', 'E', 'F', 'F#', 'G', 'G#', 'A', 'A#', 'B']\n",
    "    key_name = key_names[key % 12]\n",
    "    \n",
    "    # Minor or Major (assuming the major key if the estimated key ID is less than or equal to 11)\n",
    "    mode = 'minor' if key > 11 else 'major'\n",
    "    \n",
    "    return key_name, mode, tempo"
   ]
  },
  {
   "cell_type": "code",
   "execution_count": 9,
   "id": "6896fa31-a499-47e6-be1e-474ab74e121d",
   "metadata": {},
   "outputs": [],
   "source": [
    "def estimate_key_and_tempo(file_path):\n",
    "    # Load the audio file\n",
    "    y, sr = librosa.load(file_path, sr=None)\n",
    "    \n",
    "    # Estimate tempo\n",
    "    tempo, _ = librosa.beat.beat_track(y=y, sr=sr)\n",
    "    \n",
    "    # Harmonic component of the audio\n",
    "    y_harmonic, _ = librosa.effects.hpss(y)\n",
    "    \n",
    "    # Extract Chroma features\n",
    "    chromagram = librosa.feature.chroma_cqt(y=y_harmonic, sr=sr)\n",
    "    \n",
    "    # Calculate the Chroma Energy Normalized (CENS) features\n",
    "    cens = librosa.feature.chroma_cens(y=y_harmonic, sr=sr)\n",
    "    \n",
    "    # Compute key from the CENS features\n",
    "    key = librosa.feature.tempogram(y=y_harmonic, sr=sr)\n",
    "    \n",
    "    # Aggregate chromagram to get key\n",
    "    key_agg = np.sum(chromagram, axis=1)\n",
    "    \n",
    "    # Identify the key\n",
    "    key = np.argmax(key_agg)\n",
    "    \n",
    "    # Mapping from keys to pitch classes\n",
    "    key_names = [\"C\", \"C#\", \"D\", \"D#\", \"E\", \"F\", \"F#\", \"G\", \"G#\", \"A\", \"A#\", \"B\"]\n",
    "    key_name = key_names[key % 12]\n",
    "    \n",
    "    # Major or minor\n",
    "    mode = \"minor\" if key > 11 else \"major\"\n",
    "    \n",
    "    return key_name, mode, tempo\n"
   ]
  },
  {
   "cell_type": "code",
   "execution_count": 7,
   "id": "c853e40f-af21-41a5-9806-cbeaa071e3b7",
   "metadata": {},
   "outputs": [
    {
     "name": "stderr",
     "output_type": "stream",
     "text": [
      "/var/folders/17/cl3f2vyd3955c3rjm17tz3180000gn/T/ipykernel_21570/3451943780.py:3: UserWarning: PySoundFile failed. Trying audioread instead.\n",
      "  y, sr = librosa.load(file_path, sr=None)\n"
     ]
    },
    {
     "name": "stdout",
     "output_type": "stream",
     "text": [
      "Estimated Key: B major\n",
      "Estimated Tempo: 79.50721153846153 BPM\n"
     ]
    }
   ],
   "source": [
    "# Path to your M4A file (you might need to convert it to a compatible format like WAV)\n",
    "audio_file = r'/Users/mukulkothari/Music/Music/Media.localized/Music/Compilations/Dev D (Original Motion Picture Soundtrack)/07 Nayan Tarse.m4a'\n",
    "# audio_file = 'path/to/your/audio_file.m4a'\n",
    "\n",
    "# Estimate the key and tempo\n",
    "key, mode, tempo = estimate_key_and_tempo(audio_file)\n",
    "\n",
    "print(f\"Estimated Key: {key} {mode}\")\n",
    "print(f\"Estimated Tempo: {tempo} BPM\")\n"
   ]
  },
  {
   "cell_type": "code",
   "execution_count": null,
   "id": "90b6dcb1-8f01-4c35-95ad-36777c8b7228",
   "metadata": {},
   "outputs": [],
   "source": [
    "# Path to your M4A file (you might need to convert it to a compatible format like WAV)\n",
    "audio_file = r'/Users/mukulkothari/Music/Music/Media.localized/Music/Compilations/Dev D (Original Motion Picture Soundtrack)/07 Nayan Tarse.m4a'\n",
    "# audio_file = 'path/to/your/audio_file.m4a'\n",
    "\n",
    "# Estimate the key and tempo\n",
    "key, mode, tempo = estimate_key_and_tempo(audio_file)\n",
    "\n",
    "print(f\"Estimated Key: {key} {mode}\")\n",
    "print(f\"Estimated Tempo: {tempo} BPM\")\n"
   ]
  },
  {
   "cell_type": "code",
   "execution_count": 5,
   "id": "50365d5d-c7e2-4afa-b6b6-ee3f3688b3d5",
   "metadata": {},
   "outputs": [
    {
     "name": "stdout",
     "output_type": "stream",
     "text": [
      "0.12.1\n"
     ]
    }
   ],
   "source": [
    "import soundfile as sf\n",
    "print(sf.__version__)\n"
   ]
  },
  {
   "cell_type": "code",
   "execution_count": 11,
   "id": "238dbf43-32d0-4d19-a2e4-9a343d376d79",
   "metadata": {},
   "outputs": [
    {
     "name": "stderr",
     "output_type": "stream",
     "text": [
      "/var/folders/17/cl3f2vyd3955c3rjm17tz3180000gn/T/ipykernel_21570/3451943780.py:3: UserWarning: PySoundFile failed. Trying audioread instead.\n",
      "  y, sr = librosa.load(file_path, sr=None)\n"
     ]
    },
    {
     "name": "stdout",
     "output_type": "stream",
     "text": [
      "Estimated Key: C# major\n",
      "Estimated Tempo: 107.666015625 BPM\n"
     ]
    }
   ],
   "source": [
    "# audio_file = r'/Users/mukulkothari/Music/Music/Media.localized/Music/Passenger/All the Little Lights (Deluxe)/02 Let Her Go.m4a'\n",
    "audio_file = r'/Users/mukulkothari/Music/Music/Media.localized/Music/Unknown Artist/Unknown Album/Full Track - A Major - 08_10_23, 2.46 PM.m4a'\n",
    "# Estimate the key and tempo\n",
    "key, mode, tempo = estimate_key_and_tempo(audio_file)\n",
    "\n",
    "print(f\"Estimated Key: {key} {mode}\")\n",
    "print(f\"Estimated Tempo: {tempo} BPM\")\n"
   ]
  },
  {
   "cell_type": "code",
   "execution_count": null,
   "id": "6beef750-a357-420b-8516-8fbc4ec30e8b",
   "metadata": {},
   "outputs": [],
   "source": []
  }
 ],
 "metadata": {
  "kernelspec": {
   "display_name": "Python 3 (ipykernel)",
   "language": "python",
   "name": "python3"
  },
  "language_info": {
   "codemirror_mode": {
    "name": "ipython",
    "version": 3
   },
   "file_extension": ".py",
   "mimetype": "text/x-python",
   "name": "python",
   "nbconvert_exporter": "python",
   "pygments_lexer": "ipython3",
   "version": "3.12.2"
  }
 },
 "nbformat": 4,
 "nbformat_minor": 5
}
