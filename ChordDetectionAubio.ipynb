{
 "cells": [
  {
   "cell_type": "code",
   "execution_count": 2,
   "id": "a116b8c9-d166-452e-ba67-df217dd53524",
   "metadata": {},
   "outputs": [],
   "source": [
    "import aubio\n",
    "import numpy as np\n"
   ]
  },
  {
   "cell_type": "code",
   "execution_count": 3,
   "id": "5e10a823-5a44-401e-a967-7bbbf6494bbe",
   "metadata": {},
   "outputs": [
    {
     "name": "stdout",
     "output_type": "stream",
     "text": [
      "Pitch: 0.00 Hz, MIDI Note: None, Confidence: 0.8137133121490479\n",
      "Pitch: 0.00 Hz, MIDI Note: None, Confidence: 0.8233559727668762\n",
      "Pitch: 0.00 Hz, MIDI Note: None, Confidence: 0.8056907653808594\n",
      "Pitch: 3123.64 Hz, MIDI Note: 102.93185962733662, Confidence: 0.906087338924408\n",
      "Pitch: 3113.74 Hz, MIDI Note: 102.87687931204327, Confidence: 0.9665703177452087\n",
      "Pitch: 3111.53 Hz, MIDI Note: 102.86461205772873, Confidence: 0.9836005568504333\n",
      "Pitch: 3111.50 Hz, MIDI Note: 102.86439064043392, Confidence: 0.9873368144035339\n",
      "Pitch: 3111.43 Hz, MIDI Note: 102.86401436037622, Confidence: 0.9892829656600952\n",
      "Pitch: 3112.08 Hz, MIDI Note: 102.86767221654885, Confidence: 0.9903489351272583\n",
      "Pitch: 3114.42 Hz, MIDI Note: 102.88066744964281, Confidence: 0.9924917221069336\n",
      "Pitch: 3117.53 Hz, MIDI Note: 102.89791870951825, Confidence: 0.9939057230949402\n",
      "Pitch: 3118.64 Hz, MIDI Note: 102.90411888559933, Confidence: 0.9936209321022034\n",
      "Pitch: 3119.88 Hz, MIDI Note: 102.91097932561993, Confidence: 0.9922734498977661\n",
      "Pitch: 3122.10 Hz, MIDI Note: 102.92330854535476, Confidence: 0.9938777685165405\n",
      "Pitch: 3125.97 Hz, MIDI Note: 102.94472566005713, Confidence: 0.9958474040031433\n",
      "Pitch: 3129.48 Hz, MIDI Note: 102.96415536447103, Confidence: 0.996394157409668\n",
      "Pitch: 3136.24 Hz, MIDI Note: 103.00152099578258, Confidence: 0.9970884323120117\n",
      "Pitch: 3146.47 Hz, MIDI Note: 103.05788882417073, Confidence: 0.997565507888794\n",
      "Pitch: 3142.05 Hz, MIDI Note: 103.0335674416273, Confidence: 0.997814416885376\n",
      "Pitch: 3141.59 Hz, MIDI Note: 103.03104503161082, Confidence: 0.9979467391967773\n",
      "Pitch: 3146.89 Hz, MIDI Note: 103.06023675137733, Confidence: 0.9979004859924316\n",
      "Pitch: 3151.29 Hz, MIDI Note: 103.08438928097706, Confidence: 0.9972463846206665\n",
      "Pitch: 3157.98 Hz, MIDI Note: 103.12110176020897, Confidence: 0.9937868714332581\n",
      "Pitch: 3160.46 Hz, MIDI Note: 103.13468791028546, Confidence: 0.9928422570228577\n",
      "Pitch: 3160.80 Hz, MIDI Note: 103.13658818471222, Confidence: 0.9933416247367859\n",
      "Pitch: 3160.78 Hz, MIDI Note: 103.13643975417762, Confidence: 0.9911896586418152\n",
      "Pitch: 3167.06 Hz, MIDI Note: 103.17083224082006, Confidence: 0.9784547686576843\n",
      "Pitch: 3170.35 Hz, MIDI Note: 103.1888248201484, Confidence: 0.9584678411483765\n",
      "Pitch: 3174.06 Hz, MIDI Note: 103.20904131553063, Confidence: 0.9166247248649597\n",
      "Pitch: 3179.31 Hz, MIDI Note: 103.23765949998902, Confidence: 0.8356696367263794\n",
      "Pitch: 776.17 Hz, MIDI Note: 78.82637358268033, Confidence: 0.8200003504753113\n",
      "Pitch: 3116.46 Hz, MIDI Note: 102.89198213599593, Confidence: 0.8511427640914917\n",
      "Pitch: 3114.86 Hz, MIDI Note: 102.88310738027332, Confidence: 0.9030920267105103\n",
      "Pitch: 517.72 Hz, MIDI Note: 71.81606830098556, Confidence: 0.8807029724121094\n",
      "Pitch: 3156.19 Hz, MIDI Note: 103.11132196450535, Confidence: 0.8523231148719788\n",
      "Pitch: 3163.77 Hz, MIDI Note: 103.15283563796672, Confidence: 0.8412998914718628\n",
      "Pitch: 3183.00 Hz, MIDI Note: 103.25776729493731, Confidence: 0.830003559589386\n",
      "Pitch: 3532.67 Hz, MIDI Note: 105.06219873684327, Confidence: 0.8260676860809326\n"
     ]
    }
   ],
   "source": [
    "# Function to convert frequency to MIDI note number\n",
    "\n",
    "def freq_to_midi(freq):\n",
    "    if freq <= 0:\n",
    "        return None\n",
    "    return 69 + 12 * np.log2(freq / 440.0)\n",
    "\n",
    "# Open the audio file\n",
    "filename = r'/Users/mukulkothari/Music/Music/Media.localized/Music/Compilations/Dev D (Original Motion Picture Soundtrack)/07 Nayan Tarse.m4a'\n",
    "\n",
    "samplerate = 0  # use original sample rate\n",
    "hop_size = 512  # number of frames to read at once\n",
    "s = aubio.source(filename, samplerate, hop_size)\n",
    "total_frames = 0\n",
    "\n",
    "# Setup pitch detection\n",
    "tolerance = 0.8\n",
    "pitch_o = aubio.pitch(\"default\", 2048, hop_size, samplerate)\n",
    "pitch_o.set_unit(\"Hz\")\n",
    "pitch_o.set_tolerance(tolerance)\n",
    "\n",
    "# Process the file\n",
    "while True:\n",
    "    samples, read = s()\n",
    "    pitch = pitch_o(samples)[0]\n",
    "    midi_note = freq_to_midi(pitch)\n",
    "    confidence = pitch_o.get_confidence()\n",
    "\n",
    "    # Only print notes with high confidence\n",
    "    if confidence > 0.8:\n",
    "        print(f\"Pitch: {pitch:.2f} Hz, MIDI Note: {midi_note}, Confidence: {confidence}\")\n",
    "\n",
    "    total_frames += read\n",
    "    if read < hop_size:\n",
    "        break\n"
   ]
  },
  {
   "cell_type": "code",
   "execution_count": 6,
   "id": "c853e40f-af21-41a5-9806-cbeaa071e3b7",
   "metadata": {
    "scrolled": true
   },
   "outputs": [
    {
     "ename": "ConverterFileException",
     "evalue": "cannot find a format extensions for: /Users/mukulkothari/Music/Music/Media.localized/Music/Compilations/Dev D (Original Motion Picture Soundtrack)/07 Nayan Tarse.m4a",
     "output_type": "error",
     "traceback": [
      "\u001b[0;31m---------------------------------------------------------------------------\u001b[0m",
      "\u001b[0;31mConverterFileException\u001b[0m                    Traceback (most recent call last)",
      "Cell \u001b[0;32mIn[6], line 3\u001b[0m\n\u001b[1;32m      1\u001b[0m \u001b[38;5;66;03m# Load your music file (MIDI, MusicXML, etc.)\u001b[39;00m\n\u001b[1;32m      2\u001b[0m music_file \u001b[38;5;241m=\u001b[39m \u001b[38;5;124mr\u001b[39m\u001b[38;5;124m'\u001b[39m\u001b[38;5;124m/Users/mukulkothari/Music/Music/Media.localized/Music/Compilations/Dev D (Original Motion Picture Soundtrack)/07 Nayan Tarse.m4a\u001b[39m\u001b[38;5;124m'\u001b[39m\n\u001b[0;32m----> 3\u001b[0m score \u001b[38;5;241m=\u001b[39m \u001b[43mconverter\u001b[49m\u001b[38;5;241;43m.\u001b[39;49m\u001b[43mparse\u001b[49m\u001b[43m(\u001b[49m\u001b[43mmusic_file\u001b[49m\u001b[43m)\u001b[49m\n\u001b[1;32m      5\u001b[0m \u001b[38;5;66;03m# Extract all chords from the music file\u001b[39;00m\n\u001b[1;32m      6\u001b[0m chords \u001b[38;5;241m=\u001b[39m score\u001b[38;5;241m.\u001b[39mflat\u001b[38;5;241m.\u001b[39mgetElementsByClass(chord\u001b[38;5;241m.\u001b[39mChord)\n",
      "File \u001b[0;32m~/my_project_env/lib/python3.12/site-packages/music21/converter/__init__.py:1409\u001b[0m, in \u001b[0;36mparse\u001b[0;34m(value, forceSource, number, format, **keywords)\u001b[0m\n\u001b[1;32m   1406\u001b[0m     \u001b[38;5;28;01mreturn\u001b[39;00m parseData(value, number\u001b[38;5;241m=\u001b[39mnumber, \u001b[38;5;28mformat\u001b[39m\u001b[38;5;241m=\u001b[39m\u001b[38;5;28mformat\u001b[39m, \u001b[38;5;241m*\u001b[39m\u001b[38;5;241m*\u001b[39mkeywords)\n\u001b[1;32m   1407\u001b[0m \u001b[38;5;28;01melif\u001b[39;00m (\u001b[38;5;129;01mnot\u001b[39;00m \u001b[38;5;28misinstance\u001b[39m(value, \u001b[38;5;28mbytes\u001b[39m)\n\u001b[1;32m   1408\u001b[0m       \u001b[38;5;129;01mand\u001b[39;00m _osCanLoad(valueStr)):\n\u001b[0;32m-> 1409\u001b[0m     \u001b[38;5;28;01mreturn\u001b[39;00m \u001b[43mparseFile\u001b[49m\u001b[43m(\u001b[49m\u001b[43mvalueStr\u001b[49m\u001b[43m,\u001b[49m\u001b[43m \u001b[49m\u001b[43mnumber\u001b[49m\u001b[38;5;241;43m=\u001b[39;49m\u001b[43mnumber\u001b[49m\u001b[43m,\u001b[49m\u001b[43m \u001b[49m\u001b[38;5;28;43mformat\u001b[39;49m\u001b[38;5;241;43m=\u001b[39;49m\u001b[38;5;28;43mformat\u001b[39;49m\u001b[43m,\u001b[49m\n\u001b[1;32m   1410\u001b[0m \u001b[43m                     \u001b[49m\u001b[43mforceSource\u001b[49m\u001b[38;5;241;43m=\u001b[39;49m\u001b[43mforceSource\u001b[49m\u001b[43m,\u001b[49m\u001b[43m \u001b[49m\u001b[38;5;241;43m*\u001b[39;49m\u001b[38;5;241;43m*\u001b[39;49m\u001b[43mkeywords\u001b[49m\u001b[43m)\u001b[49m\n\u001b[1;32m   1411\u001b[0m \u001b[38;5;28;01melif\u001b[39;00m (\u001b[38;5;129;01mnot\u001b[39;00m \u001b[38;5;28misinstance\u001b[39m(value, \u001b[38;5;28mbytes\u001b[39m)\n\u001b[1;32m   1412\u001b[0m       \u001b[38;5;129;01mand\u001b[39;00m _osCanLoad(common\u001b[38;5;241m.\u001b[39mcleanpath(valueStr))):\n\u001b[1;32m   1413\u001b[0m     \u001b[38;5;28;01mreturn\u001b[39;00m parseFile(common\u001b[38;5;241m.\u001b[39mcleanpath(valueStr), number\u001b[38;5;241m=\u001b[39mnumber, \u001b[38;5;28mformat\u001b[39m\u001b[38;5;241m=\u001b[39m\u001b[38;5;28mformat\u001b[39m,\n\u001b[1;32m   1414\u001b[0m                      forceSource\u001b[38;5;241m=\u001b[39mforceSource, \u001b[38;5;241m*\u001b[39m\u001b[38;5;241m*\u001b[39mkeywords)\n",
      "File \u001b[0;32m~/my_project_env/lib/python3.12/site-packages/music21/converter/__init__.py:1263\u001b[0m, in \u001b[0;36mparseFile\u001b[0;34m(fp, number, format, forceSource, **keywords)\u001b[0m\n\u001b[1;32m   1261\u001b[0m v \u001b[38;5;241m=\u001b[39m Converter()\n\u001b[1;32m   1262\u001b[0m fp \u001b[38;5;241m=\u001b[39m common\u001b[38;5;241m.\u001b[39mcleanpath(fp, returnPathlib\u001b[38;5;241m=\u001b[39m\u001b[38;5;28;01mTrue\u001b[39;00m)\n\u001b[0;32m-> 1263\u001b[0m \u001b[43mv\u001b[49m\u001b[38;5;241;43m.\u001b[39;49m\u001b[43mparseFile\u001b[49m\u001b[43m(\u001b[49m\u001b[43mfp\u001b[49m\u001b[43m,\u001b[49m\u001b[43m \u001b[49m\u001b[43mnumber\u001b[49m\u001b[38;5;241;43m=\u001b[39;49m\u001b[43mnumber\u001b[49m\u001b[43m,\u001b[49m\u001b[43m \u001b[49m\u001b[38;5;28;43mformat\u001b[39;49m\u001b[38;5;241;43m=\u001b[39;49m\u001b[38;5;28;43mformat\u001b[39;49m\u001b[43m,\u001b[49m\u001b[43m \u001b[49m\u001b[43mforceSource\u001b[49m\u001b[38;5;241;43m=\u001b[39;49m\u001b[43mforceSource\u001b[49m\u001b[43m,\u001b[49m\u001b[43m \u001b[49m\u001b[38;5;241;43m*\u001b[39;49m\u001b[38;5;241;43m*\u001b[39;49m\u001b[43mkeywords\u001b[49m\u001b[43m)\u001b[49m\n\u001b[1;32m   1264\u001b[0m \u001b[38;5;28;01mif\u001b[39;00m t\u001b[38;5;241m.\u001b[39mTYPE_CHECKING:\n\u001b[1;32m   1265\u001b[0m     \u001b[38;5;28;01massert\u001b[39;00m \u001b[38;5;28misinstance\u001b[39m(v\u001b[38;5;241m.\u001b[39mstream, (stream\u001b[38;5;241m.\u001b[39mScore, stream\u001b[38;5;241m.\u001b[39mPart, stream\u001b[38;5;241m.\u001b[39mOpus))\n",
      "File \u001b[0;32m~/my_project_env/lib/python3.12/site-packages/music21/converter/__init__.py:626\u001b[0m, in \u001b[0;36mConverter.parseFile\u001b[0;34m(self, fp, number, format, forceSource, storePickle, **keywords)\u001b[0m\n\u001b[1;32m    623\u001b[0m useFormat \u001b[38;5;241m=\u001b[39m \u001b[38;5;28mformat\u001b[39m\n\u001b[1;32m    625\u001b[0m \u001b[38;5;28;01mif\u001b[39;00m useFormat \u001b[38;5;129;01mis\u001b[39;00m \u001b[38;5;28;01mNone\u001b[39;00m:\n\u001b[0;32m--> 626\u001b[0m     useFormat \u001b[38;5;241m=\u001b[39m \u001b[38;5;28;43mself\u001b[39;49m\u001b[38;5;241;43m.\u001b[39;49m\u001b[43mgetFormatFromFileExtension\u001b[49m\u001b[43m(\u001b[49m\u001b[43mfp\u001b[49m\u001b[43m)\u001b[49m\n\u001b[1;32m    628\u001b[0m pfObj \u001b[38;5;241m=\u001b[39m PickleFilter(fp, forceSource, number, \u001b[38;5;241m*\u001b[39m\u001b[38;5;241m*\u001b[39mkeywords)\n\u001b[1;32m    629\u001b[0m unused_fpDst, writePickle, fpPickle \u001b[38;5;241m=\u001b[39m pfObj\u001b[38;5;241m.\u001b[39mstatus()\n",
      "File \u001b[0;32m~/my_project_env/lib/python3.12/site-packages/music21/converter/__init__.py:604\u001b[0m, in \u001b[0;36mConverter.getFormatFromFileExtension\u001b[0;34m(self, fp)\u001b[0m\n\u001b[1;32m    602\u001b[0m     useFormat \u001b[38;5;241m=\u001b[39m common\u001b[38;5;241m.\u001b[39mfindFormatFile(fp)\n\u001b[1;32m    603\u001b[0m     \u001b[38;5;28;01mif\u001b[39;00m useFormat \u001b[38;5;129;01mis\u001b[39;00m \u001b[38;5;28;01mNone\u001b[39;00m:\n\u001b[0;32m--> 604\u001b[0m         \u001b[38;5;28;01mraise\u001b[39;00m ConverterFileException(\u001b[38;5;124mf\u001b[39m\u001b[38;5;124m'\u001b[39m\u001b[38;5;124mcannot find a format extensions for: \u001b[39m\u001b[38;5;132;01m{\u001b[39;00mfp\u001b[38;5;132;01m}\u001b[39;00m\u001b[38;5;124m'\u001b[39m)\n\u001b[1;32m    605\u001b[0m \u001b[38;5;28;01mreturn\u001b[39;00m useFormat\n",
      "\u001b[0;31mConverterFileException\u001b[0m: cannot find a format extensions for: /Users/mukulkothari/Music/Music/Media.localized/Music/Compilations/Dev D (Original Motion Picture Soundtrack)/07 Nayan Tarse.m4a"
     ]
    }
   ],
   "source": [
    "# Load your music file (MIDI, MusicXML, etc.)\n",
    "\n",
    "score = converter.parse(music_file)\n",
    "\n",
    "# Extract all chords from the music file\n",
    "chords = score.flat.getElementsByClass(chord.Chord)\n",
    "\n",
    "# Print each chord found in the file\n",
    "for ch in chords:\n",
    "    print(ch.pitches)\n"
   ]
  },
  {
   "cell_type": "code",
   "execution_count": null,
   "id": "90b6dcb1-8f01-4c35-95ad-36777c8b7228",
   "metadata": {},
   "outputs": [],
   "source": [
    "# Path to your M4A file (you might need to convert it to a compatible format like WAV)\n",
    "audio_file = r'/Users/mukulkothari/Music/Music/Media.localized/Music/Compilations/Dev D (Original Motion Picture Soundtrack)/07 Nayan Tarse.m4a'\n",
    "# audio_file = 'path/to/your/audio_file.m4a'\n",
    "\n",
    "# Estimate the key and tempo\n",
    "key, mode, tempo = estimate_key_and_tempo(audio_file)\n",
    "\n",
    "print(f\"Estimated Key: {key} {mode}\")\n",
    "print(f\"Estimated Tempo: {tempo} BPM\")\n"
   ]
  },
  {
   "cell_type": "code",
   "execution_count": 5,
   "id": "50365d5d-c7e2-4afa-b6b6-ee3f3688b3d5",
   "metadata": {},
   "outputs": [
    {
     "name": "stdout",
     "output_type": "stream",
     "text": [
      "0.12.1\n"
     ]
    }
   ],
   "source": [
    "import soundfile as sf\n",
    "print(sf.__version__)\n"
   ]
  },
  {
   "cell_type": "code",
   "execution_count": 11,
   "id": "238dbf43-32d0-4d19-a2e4-9a343d376d79",
   "metadata": {},
   "outputs": [
    {
     "name": "stderr",
     "output_type": "stream",
     "text": [
      "/var/folders/17/cl3f2vyd3955c3rjm17tz3180000gn/T/ipykernel_21570/3451943780.py:3: UserWarning: PySoundFile failed. Trying audioread instead.\n",
      "  y, sr = librosa.load(file_path, sr=None)\n"
     ]
    },
    {
     "name": "stdout",
     "output_type": "stream",
     "text": [
      "Estimated Key: C# major\n",
      "Estimated Tempo: 107.666015625 BPM\n"
     ]
    }
   ],
   "source": [
    "# audio_file = r'/Users/mukulkothari/Music/Music/Media.localized/Music/Passenger/All the Little Lights (Deluxe)/02 Let Her Go.m4a'\n",
    "audio_file = r'/Users/mukulkothari/Music/Music/Media.localized/Music/Unknown Artist/Unknown Album/Full Track - A Major - 08_10_23, 2.46 PM.m4a'\n",
    "# Estimate the key and tempo\n",
    "key, mode, tempo = estimate_key_and_tempo(audio_file)\n",
    "\n",
    "print(f\"Estimated Key: {key} {mode}\")\n",
    "print(f\"Estimated Tempo: {tempo} BPM\")\n"
   ]
  },
  {
   "cell_type": "code",
   "execution_count": null,
   "id": "6beef750-a357-420b-8516-8fbc4ec30e8b",
   "metadata": {},
   "outputs": [],
   "source": []
  }
 ],
 "metadata": {
  "kernelspec": {
   "display_name": "Python 3 (ipykernel)",
   "language": "python",
   "name": "python3"
  },
  "language_info": {
   "codemirror_mode": {
    "name": "ipython",
    "version": 3
   },
   "file_extension": ".py",
   "mimetype": "text/x-python",
   "name": "python",
   "nbconvert_exporter": "python",
   "pygments_lexer": "ipython3",
   "version": "3.12.2"
  }
 },
 "nbformat": 4,
 "nbformat_minor": 5
}
