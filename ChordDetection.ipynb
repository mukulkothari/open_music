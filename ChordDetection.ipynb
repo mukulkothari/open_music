{
 "cells": [
  {
   "cell_type": "code",
   "execution_count": 4,
   "id": "a116b8c9-d166-452e-ba67-df217dd53524",
   "metadata": {},
   "outputs": [],
   "source": [
    "import librosa\n",
    "import numpy as np\n",
    "from music21 import pitch, chord, converter\n",
    "\n"
   ]
  },
  {
   "cell_type": "code",
   "execution_count": 5,
   "id": "da0d5c1c-8697-4f58-8368-55bf1cac9d09",
   "metadata": {},
   "outputs": [],
   "source": [
    "def estimate_chords(file_path, sr=22050, hop_length=512):\n",
    "    # Load the audio file\n",
    "    y, sr = librosa.load(file_path, sr=sr)\n",
    "    \n",
    "    # Extract Chroma features\n",
    "    chroma = librosa.feature.chroma_cqt(y=y, sr=sr, hop_length=hop_length)\n",
    "    \n",
    "    # Aggregate chroma features by taking the mean\n",
    "    chroma_mean = np.mean(chroma, axis=1)\n",
    "    \n",
    "    # Identify pitches present in the chroma\n",
    "    pitches = [pitch.Pitch(midi=p+60) for p, v in enumerate(chroma_mean) if v > 0.1]  # Adjust threshold as needed\n",
    "    pitch_names = [p.nameWithOctave for p in pitches]\n",
    "    \n",
    "    # Create a chord from identified pitches\n",
    "    if pitch_names:\n",
    "        detected_chord = chord.Chord(pitch_names)\n",
    "        return detected_chord.commonName\n",
    "    else:\n",
    "        return \"No chord detected\""
   ]
  },
  {
   "cell_type": "code",
   "execution_count": 6,
   "id": "c853e40f-af21-41a5-9806-cbeaa071e3b7",
   "metadata": {
    "scrolled": true
   },
   "outputs": [
    {
     "ename": "ConverterFileException",
     "evalue": "cannot find a format extensions for: /Users/mukulkothari/Music/Music/Media.localized/Music/Compilations/Dev D (Original Motion Picture Soundtrack)/07 Nayan Tarse.m4a",
     "output_type": "error",
     "traceback": [
      "\u001b[0;31m---------------------------------------------------------------------------\u001b[0m",
      "\u001b[0;31mConverterFileException\u001b[0m                    Traceback (most recent call last)",
      "Cell \u001b[0;32mIn[6], line 3\u001b[0m\n\u001b[1;32m      1\u001b[0m \u001b[38;5;66;03m# Load your music file (MIDI, MusicXML, etc.)\u001b[39;00m\n\u001b[1;32m      2\u001b[0m music_file \u001b[38;5;241m=\u001b[39m \u001b[38;5;124mr\u001b[39m\u001b[38;5;124m'\u001b[39m\u001b[38;5;124m/Users/mukulkothari/Music/Music/Media.localized/Music/Compilations/Dev D (Original Motion Picture Soundtrack)/07 Nayan Tarse.m4a\u001b[39m\u001b[38;5;124m'\u001b[39m\n\u001b[0;32m----> 3\u001b[0m score \u001b[38;5;241m=\u001b[39m \u001b[43mconverter\u001b[49m\u001b[38;5;241;43m.\u001b[39;49m\u001b[43mparse\u001b[49m\u001b[43m(\u001b[49m\u001b[43mmusic_file\u001b[49m\u001b[43m)\u001b[49m\n\u001b[1;32m      5\u001b[0m \u001b[38;5;66;03m# Extract all chords from the music file\u001b[39;00m\n\u001b[1;32m      6\u001b[0m chords \u001b[38;5;241m=\u001b[39m score\u001b[38;5;241m.\u001b[39mflat\u001b[38;5;241m.\u001b[39mgetElementsByClass(chord\u001b[38;5;241m.\u001b[39mChord)\n",
      "File \u001b[0;32m~/my_project_env/lib/python3.12/site-packages/music21/converter/__init__.py:1409\u001b[0m, in \u001b[0;36mparse\u001b[0;34m(value, forceSource, number, format, **keywords)\u001b[0m\n\u001b[1;32m   1406\u001b[0m     \u001b[38;5;28;01mreturn\u001b[39;00m parseData(value, number\u001b[38;5;241m=\u001b[39mnumber, \u001b[38;5;28mformat\u001b[39m\u001b[38;5;241m=\u001b[39m\u001b[38;5;28mformat\u001b[39m, \u001b[38;5;241m*\u001b[39m\u001b[38;5;241m*\u001b[39mkeywords)\n\u001b[1;32m   1407\u001b[0m \u001b[38;5;28;01melif\u001b[39;00m (\u001b[38;5;129;01mnot\u001b[39;00m \u001b[38;5;28misinstance\u001b[39m(value, \u001b[38;5;28mbytes\u001b[39m)\n\u001b[1;32m   1408\u001b[0m       \u001b[38;5;129;01mand\u001b[39;00m _osCanLoad(valueStr)):\n\u001b[0;32m-> 1409\u001b[0m     \u001b[38;5;28;01mreturn\u001b[39;00m \u001b[43mparseFile\u001b[49m\u001b[43m(\u001b[49m\u001b[43mvalueStr\u001b[49m\u001b[43m,\u001b[49m\u001b[43m \u001b[49m\u001b[43mnumber\u001b[49m\u001b[38;5;241;43m=\u001b[39;49m\u001b[43mnumber\u001b[49m\u001b[43m,\u001b[49m\u001b[43m \u001b[49m\u001b[38;5;28;43mformat\u001b[39;49m\u001b[38;5;241;43m=\u001b[39;49m\u001b[38;5;28;43mformat\u001b[39;49m\u001b[43m,\u001b[49m\n\u001b[1;32m   1410\u001b[0m \u001b[43m                     \u001b[49m\u001b[43mforceSource\u001b[49m\u001b[38;5;241;43m=\u001b[39;49m\u001b[43mforceSource\u001b[49m\u001b[43m,\u001b[49m\u001b[43m \u001b[49m\u001b[38;5;241;43m*\u001b[39;49m\u001b[38;5;241;43m*\u001b[39;49m\u001b[43mkeywords\u001b[49m\u001b[43m)\u001b[49m\n\u001b[1;32m   1411\u001b[0m \u001b[38;5;28;01melif\u001b[39;00m (\u001b[38;5;129;01mnot\u001b[39;00m \u001b[38;5;28misinstance\u001b[39m(value, \u001b[38;5;28mbytes\u001b[39m)\n\u001b[1;32m   1412\u001b[0m       \u001b[38;5;129;01mand\u001b[39;00m _osCanLoad(common\u001b[38;5;241m.\u001b[39mcleanpath(valueStr))):\n\u001b[1;32m   1413\u001b[0m     \u001b[38;5;28;01mreturn\u001b[39;00m parseFile(common\u001b[38;5;241m.\u001b[39mcleanpath(valueStr), number\u001b[38;5;241m=\u001b[39mnumber, \u001b[38;5;28mformat\u001b[39m\u001b[38;5;241m=\u001b[39m\u001b[38;5;28mformat\u001b[39m,\n\u001b[1;32m   1414\u001b[0m                      forceSource\u001b[38;5;241m=\u001b[39mforceSource, \u001b[38;5;241m*\u001b[39m\u001b[38;5;241m*\u001b[39mkeywords)\n",
      "File \u001b[0;32m~/my_project_env/lib/python3.12/site-packages/music21/converter/__init__.py:1263\u001b[0m, in \u001b[0;36mparseFile\u001b[0;34m(fp, number, format, forceSource, **keywords)\u001b[0m\n\u001b[1;32m   1261\u001b[0m v \u001b[38;5;241m=\u001b[39m Converter()\n\u001b[1;32m   1262\u001b[0m fp \u001b[38;5;241m=\u001b[39m common\u001b[38;5;241m.\u001b[39mcleanpath(fp, returnPathlib\u001b[38;5;241m=\u001b[39m\u001b[38;5;28;01mTrue\u001b[39;00m)\n\u001b[0;32m-> 1263\u001b[0m \u001b[43mv\u001b[49m\u001b[38;5;241;43m.\u001b[39;49m\u001b[43mparseFile\u001b[49m\u001b[43m(\u001b[49m\u001b[43mfp\u001b[49m\u001b[43m,\u001b[49m\u001b[43m \u001b[49m\u001b[43mnumber\u001b[49m\u001b[38;5;241;43m=\u001b[39;49m\u001b[43mnumber\u001b[49m\u001b[43m,\u001b[49m\u001b[43m \u001b[49m\u001b[38;5;28;43mformat\u001b[39;49m\u001b[38;5;241;43m=\u001b[39;49m\u001b[38;5;28;43mformat\u001b[39;49m\u001b[43m,\u001b[49m\u001b[43m \u001b[49m\u001b[43mforceSource\u001b[49m\u001b[38;5;241;43m=\u001b[39;49m\u001b[43mforceSource\u001b[49m\u001b[43m,\u001b[49m\u001b[43m \u001b[49m\u001b[38;5;241;43m*\u001b[39;49m\u001b[38;5;241;43m*\u001b[39;49m\u001b[43mkeywords\u001b[49m\u001b[43m)\u001b[49m\n\u001b[1;32m   1264\u001b[0m \u001b[38;5;28;01mif\u001b[39;00m t\u001b[38;5;241m.\u001b[39mTYPE_CHECKING:\n\u001b[1;32m   1265\u001b[0m     \u001b[38;5;28;01massert\u001b[39;00m \u001b[38;5;28misinstance\u001b[39m(v\u001b[38;5;241m.\u001b[39mstream, (stream\u001b[38;5;241m.\u001b[39mScore, stream\u001b[38;5;241m.\u001b[39mPart, stream\u001b[38;5;241m.\u001b[39mOpus))\n",
      "File \u001b[0;32m~/my_project_env/lib/python3.12/site-packages/music21/converter/__init__.py:626\u001b[0m, in \u001b[0;36mConverter.parseFile\u001b[0;34m(self, fp, number, format, forceSource, storePickle, **keywords)\u001b[0m\n\u001b[1;32m    623\u001b[0m useFormat \u001b[38;5;241m=\u001b[39m \u001b[38;5;28mformat\u001b[39m\n\u001b[1;32m    625\u001b[0m \u001b[38;5;28;01mif\u001b[39;00m useFormat \u001b[38;5;129;01mis\u001b[39;00m \u001b[38;5;28;01mNone\u001b[39;00m:\n\u001b[0;32m--> 626\u001b[0m     useFormat \u001b[38;5;241m=\u001b[39m \u001b[38;5;28;43mself\u001b[39;49m\u001b[38;5;241;43m.\u001b[39;49m\u001b[43mgetFormatFromFileExtension\u001b[49m\u001b[43m(\u001b[49m\u001b[43mfp\u001b[49m\u001b[43m)\u001b[49m\n\u001b[1;32m    628\u001b[0m pfObj \u001b[38;5;241m=\u001b[39m PickleFilter(fp, forceSource, number, \u001b[38;5;241m*\u001b[39m\u001b[38;5;241m*\u001b[39mkeywords)\n\u001b[1;32m    629\u001b[0m unused_fpDst, writePickle, fpPickle \u001b[38;5;241m=\u001b[39m pfObj\u001b[38;5;241m.\u001b[39mstatus()\n",
      "File \u001b[0;32m~/my_project_env/lib/python3.12/site-packages/music21/converter/__init__.py:604\u001b[0m, in \u001b[0;36mConverter.getFormatFromFileExtension\u001b[0;34m(self, fp)\u001b[0m\n\u001b[1;32m    602\u001b[0m     useFormat \u001b[38;5;241m=\u001b[39m common\u001b[38;5;241m.\u001b[39mfindFormatFile(fp)\n\u001b[1;32m    603\u001b[0m     \u001b[38;5;28;01mif\u001b[39;00m useFormat \u001b[38;5;129;01mis\u001b[39;00m \u001b[38;5;28;01mNone\u001b[39;00m:\n\u001b[0;32m--> 604\u001b[0m         \u001b[38;5;28;01mraise\u001b[39;00m ConverterFileException(\u001b[38;5;124mf\u001b[39m\u001b[38;5;124m'\u001b[39m\u001b[38;5;124mcannot find a format extensions for: \u001b[39m\u001b[38;5;132;01m{\u001b[39;00mfp\u001b[38;5;132;01m}\u001b[39;00m\u001b[38;5;124m'\u001b[39m)\n\u001b[1;32m    605\u001b[0m \u001b[38;5;28;01mreturn\u001b[39;00m useFormat\n",
      "\u001b[0;31mConverterFileException\u001b[0m: cannot find a format extensions for: /Users/mukulkothari/Music/Music/Media.localized/Music/Compilations/Dev D (Original Motion Picture Soundtrack)/07 Nayan Tarse.m4a"
     ]
    }
   ],
   "source": [
    "# Load your music file (MIDI, MusicXML, etc.)\n",
    "music_file = r'/Users/mukulkothari/Music/Music/Media.localized/Music/Compilations/Dev D (Original Motion Picture Soundtrack)/07 Nayan Tarse.m4a'\n",
    "score = converter.parse(music_file)\n",
    "\n",
    "# Extract all chords from the music file\n",
    "chords = score.flat.getElementsByClass(chord.Chord)\n",
    "\n",
    "# Print each chord found in the file\n",
    "for ch in chords:\n",
    "    print(ch.pitches)\n"
   ]
  },
  {
   "cell_type": "code",
   "execution_count": null,
   "id": "90b6dcb1-8f01-4c35-95ad-36777c8b7228",
   "metadata": {},
   "outputs": [],
   "source": [
    "# Path to your M4A file (you might need to convert it to a compatible format like WAV)\n",
    "audio_file = r'/Users/mukulkothari/Music/Music/Media.localized/Music/Compilations/Dev D (Original Motion Picture Soundtrack)/07 Nayan Tarse.m4a'\n",
    "# audio_file = 'path/to/your/audio_file.m4a'\n",
    "\n",
    "# Estimate the key and tempo\n",
    "key, mode, tempo = estimate_key_and_tempo(audio_file)\n",
    "\n",
    "print(f\"Estimated Key: {key} {mode}\")\n",
    "print(f\"Estimated Tempo: {tempo} BPM\")\n"
   ]
  },
  {
   "cell_type": "code",
   "execution_count": 5,
   "id": "50365d5d-c7e2-4afa-b6b6-ee3f3688b3d5",
   "metadata": {},
   "outputs": [
    {
     "name": "stdout",
     "output_type": "stream",
     "text": [
      "0.12.1\n"
     ]
    }
   ],
   "source": [
    "import soundfile as sf\n",
    "print(sf.__version__)\n"
   ]
  },
  {
   "cell_type": "code",
   "execution_count": 11,
   "id": "238dbf43-32d0-4d19-a2e4-9a343d376d79",
   "metadata": {},
   "outputs": [
    {
     "name": "stderr",
     "output_type": "stream",
     "text": [
      "/var/folders/17/cl3f2vyd3955c3rjm17tz3180000gn/T/ipykernel_21570/3451943780.py:3: UserWarning: PySoundFile failed. Trying audioread instead.\n",
      "  y, sr = librosa.load(file_path, sr=None)\n"
     ]
    },
    {
     "name": "stdout",
     "output_type": "stream",
     "text": [
      "Estimated Key: C# major\n",
      "Estimated Tempo: 107.666015625 BPM\n"
     ]
    }
   ],
   "source": [
    "# audio_file = r'/Users/mukulkothari/Music/Music/Media.localized/Music/Passenger/All the Little Lights (Deluxe)/02 Let Her Go.m4a'\n",
    "audio_file = r'/Users/mukulkothari/Music/Music/Media.localized/Music/Unknown Artist/Unknown Album/Full Track - A Major - 08_10_23, 2.46 PM.m4a'\n",
    "# Estimate the key and tempo\n",
    "key, mode, tempo = estimate_key_and_tempo(audio_file)\n",
    "\n",
    "print(f\"Estimated Key: {key} {mode}\")\n",
    "print(f\"Estimated Tempo: {tempo} BPM\")\n"
   ]
  },
  {
   "cell_type": "code",
   "execution_count": null,
   "id": "6beef750-a357-420b-8516-8fbc4ec30e8b",
   "metadata": {},
   "outputs": [],
   "source": []
  }
 ],
 "metadata": {
  "kernelspec": {
   "display_name": "Python 3 (ipykernel)",
   "language": "python",
   "name": "python3"
  },
  "language_info": {
   "codemirror_mode": {
    "name": "ipython",
    "version": 3
   },
   "file_extension": ".py",
   "mimetype": "text/x-python",
   "name": "python",
   "nbconvert_exporter": "python",
   "pygments_lexer": "ipython3",
   "version": "3.12.2"
  }
 },
 "nbformat": 4,
 "nbformat_minor": 5
}
